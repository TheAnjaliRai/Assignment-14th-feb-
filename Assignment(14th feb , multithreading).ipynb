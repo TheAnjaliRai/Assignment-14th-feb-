{
 "cells": [
  {
   "cell_type": "code",
   "execution_count": 1,
   "id": "b176ee59",
   "metadata": {},
   "outputs": [],
   "source": [
    "# ques1\n",
    "# multithreading is a way of achieving multitasking in a single core\n",
    "# it allows user to perform more than one computer task at a time.\n",
    "# threading modules handles thread in python"
   ]
  },
  {
   "cell_type": "code",
   "execution_count": 2,
   "id": "0d6d14b0",
   "metadata": {},
   "outputs": [],
   "source": [
    "# ques2\n",
    "# threading module allows you to have different parts of your program run concurrently and can simplify your design\n",
    "# active_current() - this method does not take any argument value\n",
    "# current_thread() - return the current thread object\n",
    "# enumerate() - allows us to keep track of the number of iterations in a loop"
   ]
  },
  {
   "cell_type": "code",
   "execution_count": 3,
   "id": "3d150772",
   "metadata": {},
   "outputs": [],
   "source": [
    "# ques3\n",
    "# run() - run() method executes any target function belonging to a given thread object that is now active\n",
    "# start() -  It is used to start a thread's activity. This method calls the run() method internally which then executes the target method. This method must be called at most one time for one thread.\n",
    "# join() - The join() method takes all items in an iterable and joins them into one string\n",
    "# isAlive() - It uses a Thread object, and checks whether that thread is alive or not, ie, it is still running or not. "
   ]
  },
  {
   "cell_type": "code",
   "execution_count": 22,
   "id": "f22947d5",
   "metadata": {},
   "outputs": [
    {
     "name": "stdout",
     "output_type": "stream",
     "text": [
      "Square: 100\n",
      "Cube: 1000\n"
     ]
    }
   ],
   "source": [
    "# ques4\n",
    "\n",
    "import threading\n",
    "def print_cube(num):\n",
    "    print(\"Cube: {}\" .format(num * num * num))\n",
    "\n",
    "\n",
    "def print_square(num):\n",
    "    print(\"Square: {}\" .format(num * num))\n",
    "\n",
    "\n",
    "t1 = [threading.Thread(target=print_square, args=(10,))]\n",
    "t2 = [threading.Thread(target=print_cube, args=(10,))]\n",
    "\n",
    "for t in t1:\n",
    "    t.start()\n",
    "\n",
    "for t in t2:\n",
    "    t.start()"
   ]
  },
  {
   "cell_type": "code",
   "execution_count": 23,
   "id": "a953da91",
   "metadata": {},
   "outputs": [],
   "source": [
    "# ques5\n",
    "# adavantages\n",
    "# Better use of cache storage by utilization of resources\n",
    "# Decreased cost of maintenance\n",
    "# Better use of CPU resource\n",
    "# Enhanced performance by decreased development time\n",
    "\n",
    "# disadvantages\n",
    "# Complex debugging and testing processes\n",
    "# Overhead switching of context\n",
    "# Increased potential for deadlock occurrence\n",
    "# Increased difficulty level in writing a program\n",
    "# Unpredictable results\n"
   ]
  },
  {
   "cell_type": "code",
   "execution_count": null,
   "id": "e7c0bce0",
   "metadata": {},
   "outputs": [],
   "source": [
    "# ques6\n",
    "# Deadlock describes a condition in which two or more threads are blocked (hung) forever because they are waiting for each other.\n",
    "# A race condition may be defined as the occurring of a condition when two or more threads can access shared data and then try to change its value at the same time."
   ]
  }
 ],
 "metadata": {
  "kernelspec": {
   "display_name": "Python 3 (ipykernel)",
   "language": "python",
   "name": "python3"
  },
  "language_info": {
   "codemirror_mode": {
    "name": "ipython",
    "version": 3
   },
   "file_extension": ".py",
   "mimetype": "text/x-python",
   "name": "python",
   "nbconvert_exporter": "python",
   "pygments_lexer": "ipython3",
   "version": "3.10.9"
  }
 },
 "nbformat": 4,
 "nbformat_minor": 5
}
